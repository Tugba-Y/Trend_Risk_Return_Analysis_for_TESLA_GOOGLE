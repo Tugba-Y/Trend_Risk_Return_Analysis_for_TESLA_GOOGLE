{
  "nbformat": 4,
  "nbformat_minor": 0,
  "metadata": {
    "colab": {
      "name": "Yahoo_Finance_Data_Analysis",
      "provenance": []
    },
    "kernelspec": {
      "name": "python3",
      "display_name": "Python 3"
    }
  },
  "cells": [
    {
      "cell_type": "code",
      "metadata": {
        "id": "h4ejWg3E3yBU"
      },
      "source": [
        "import datetime as dt\n",
        "import pandas as pd\n",
        "import pandas_datareader as pdr\n",
        "import numpy as np\n",
        "import datetime \n",
        "\n",
        "import matplotlib.pyplot as plt\n",
        "from matplotlib import style\n",
        "\n",
        "%matplotlib inline"
      ],
      "execution_count": 1,
      "outputs": []
    },
    {
      "cell_type": "code",
      "metadata": {
        "colab": {
          "base_uri": "https://localhost:8080/"
        },
        "id": "zVL1AcN43-bI",
        "outputId": "8fde403a-3891-4965-ed53-2bb97ee12c8e"
      },
      "source": [
        "#Enter the start date of stock analysis\n",
        "date_entry = input('Enter a start date in YYYY-MM-DD format: ')\n",
        "year, month, day = map(int, date_entry.split('-'))\n",
        "start = datetime.date(year, month, day)\n",
        "\n",
        "#Enter the end date of stock analysis\n",
        "date_entry = input('Enter an end date in YYYY-MM-DD format: ')\n",
        "year, month, day = map(int, date_entry.split('-'))\n",
        "end = datetime.date(year, month, day)"
      ],
      "execution_count": 2,
      "outputs": [
        {
          "output_type": "stream",
          "text": [
            "Enter a start date in YYYY-MM-DD format: 2020-01-01\n",
            "Enter an end date in YYYY-MM-DD format: 2021-01-01\n"
          ],
          "name": "stdout"
        }
      ]
    },
    {
      "cell_type": "code",
      "metadata": {
        "colab": {
          "base_uri": "https://localhost:8080/",
          "height": 235
        },
        "id": "TGA-VYYT4Aq7",
        "outputId": "9359b9cd-ce1f-49e5-b7c2-b761c1fcf423"
      },
      "source": [
        "## Import stockA data from Yahoo finance\n",
        "TSLA=pdr.DataReader('TSLA', 'yahoo', start, end)\n",
        "TSLA.head()"
      ],
      "execution_count": 3,
      "outputs": [
        {
          "output_type": "execute_result",
          "data": {
            "text/html": [
              "<div>\n",
              "<style scoped>\n",
              "    .dataframe tbody tr th:only-of-type {\n",
              "        vertical-align: middle;\n",
              "    }\n",
              "\n",
              "    .dataframe tbody tr th {\n",
              "        vertical-align: top;\n",
              "    }\n",
              "\n",
              "    .dataframe thead th {\n",
              "        text-align: right;\n",
              "    }\n",
              "</style>\n",
              "<table border=\"1\" class=\"dataframe\">\n",
              "  <thead>\n",
              "    <tr style=\"text-align: right;\">\n",
              "      <th></th>\n",
              "      <th>High</th>\n",
              "      <th>Low</th>\n",
              "      <th>Open</th>\n",
              "      <th>Close</th>\n",
              "      <th>Volume</th>\n",
              "      <th>Adj Close</th>\n",
              "    </tr>\n",
              "    <tr>\n",
              "      <th>Date</th>\n",
              "      <th></th>\n",
              "      <th></th>\n",
              "      <th></th>\n",
              "      <th></th>\n",
              "      <th></th>\n",
              "      <th></th>\n",
              "    </tr>\n",
              "  </thead>\n",
              "  <tbody>\n",
              "    <tr>\n",
              "      <th>2020-01-02</th>\n",
              "      <td>86.139999</td>\n",
              "      <td>84.342003</td>\n",
              "      <td>84.900002</td>\n",
              "      <td>86.052002</td>\n",
              "      <td>47660500.0</td>\n",
              "      <td>86.052002</td>\n",
              "    </tr>\n",
              "    <tr>\n",
              "      <th>2020-01-03</th>\n",
              "      <td>90.800003</td>\n",
              "      <td>87.384003</td>\n",
              "      <td>88.099998</td>\n",
              "      <td>88.601997</td>\n",
              "      <td>88892500.0</td>\n",
              "      <td>88.601997</td>\n",
              "    </tr>\n",
              "    <tr>\n",
              "      <th>2020-01-06</th>\n",
              "      <td>90.311996</td>\n",
              "      <td>88.000000</td>\n",
              "      <td>88.094002</td>\n",
              "      <td>90.307999</td>\n",
              "      <td>50665000.0</td>\n",
              "      <td>90.307999</td>\n",
              "    </tr>\n",
              "    <tr>\n",
              "      <th>2020-01-07</th>\n",
              "      <td>94.325996</td>\n",
              "      <td>90.671997</td>\n",
              "      <td>92.279999</td>\n",
              "      <td>93.811996</td>\n",
              "      <td>89410500.0</td>\n",
              "      <td>93.811996</td>\n",
              "    </tr>\n",
              "    <tr>\n",
              "      <th>2020-01-08</th>\n",
              "      <td>99.697998</td>\n",
              "      <td>93.646004</td>\n",
              "      <td>94.739998</td>\n",
              "      <td>98.428001</td>\n",
              "      <td>155721500.0</td>\n",
              "      <td>98.428001</td>\n",
              "    </tr>\n",
              "  </tbody>\n",
              "</table>\n",
              "</div>"
            ],
            "text/plain": [
              "                 High        Low       Open      Close       Volume  Adj Close\n",
              "Date                                                                          \n",
              "2020-01-02  86.139999  84.342003  84.900002  86.052002   47660500.0  86.052002\n",
              "2020-01-03  90.800003  87.384003  88.099998  88.601997   88892500.0  88.601997\n",
              "2020-01-06  90.311996  88.000000  88.094002  90.307999   50665000.0  90.307999\n",
              "2020-01-07  94.325996  90.671997  92.279999  93.811996   89410500.0  93.811996\n",
              "2020-01-08  99.697998  93.646004  94.739998  98.428001  155721500.0  98.428001"
            ]
          },
          "metadata": {
            "tags": []
          },
          "execution_count": 3
        }
      ]
    },
    {
      "cell_type": "code",
      "metadata": {
        "colab": {
          "base_uri": "https://localhost:8080/",
          "height": 450
        },
        "id": "tyDuFZo_4C0G",
        "outputId": "47f811b1-022b-47d9-e48d-5a25737b7014"
      },
      "source": [
        "TSLA_=TSLA[['Adj Close']]\n",
        "TSLA_"
      ],
      "execution_count": 4,
      "outputs": [
        {
          "output_type": "execute_result",
          "data": {
            "text/html": [
              "<div>\n",
              "<style scoped>\n",
              "    .dataframe tbody tr th:only-of-type {\n",
              "        vertical-align: middle;\n",
              "    }\n",
              "\n",
              "    .dataframe tbody tr th {\n",
              "        vertical-align: top;\n",
              "    }\n",
              "\n",
              "    .dataframe thead th {\n",
              "        text-align: right;\n",
              "    }\n",
              "</style>\n",
              "<table border=\"1\" class=\"dataframe\">\n",
              "  <thead>\n",
              "    <tr style=\"text-align: right;\">\n",
              "      <th></th>\n",
              "      <th>Adj Close</th>\n",
              "    </tr>\n",
              "    <tr>\n",
              "      <th>Date</th>\n",
              "      <th></th>\n",
              "    </tr>\n",
              "  </thead>\n",
              "  <tbody>\n",
              "    <tr>\n",
              "      <th>2020-01-02</th>\n",
              "      <td>86.052002</td>\n",
              "    </tr>\n",
              "    <tr>\n",
              "      <th>2020-01-03</th>\n",
              "      <td>88.601997</td>\n",
              "    </tr>\n",
              "    <tr>\n",
              "      <th>2020-01-06</th>\n",
              "      <td>90.307999</td>\n",
              "    </tr>\n",
              "    <tr>\n",
              "      <th>2020-01-07</th>\n",
              "      <td>93.811996</td>\n",
              "    </tr>\n",
              "    <tr>\n",
              "      <th>2020-01-08</th>\n",
              "      <td>98.428001</td>\n",
              "    </tr>\n",
              "    <tr>\n",
              "      <th>...</th>\n",
              "      <td>...</td>\n",
              "    </tr>\n",
              "    <tr>\n",
              "      <th>2020-12-24</th>\n",
              "      <td>661.770020</td>\n",
              "    </tr>\n",
              "    <tr>\n",
              "      <th>2020-12-28</th>\n",
              "      <td>663.690002</td>\n",
              "    </tr>\n",
              "    <tr>\n",
              "      <th>2020-12-29</th>\n",
              "      <td>665.989990</td>\n",
              "    </tr>\n",
              "    <tr>\n",
              "      <th>2020-12-30</th>\n",
              "      <td>694.780029</td>\n",
              "    </tr>\n",
              "    <tr>\n",
              "      <th>2020-12-31</th>\n",
              "      <td>705.669983</td>\n",
              "    </tr>\n",
              "  </tbody>\n",
              "</table>\n",
              "<p>253 rows × 1 columns</p>\n",
              "</div>"
            ],
            "text/plain": [
              "             Adj Close\n",
              "Date                  \n",
              "2020-01-02   86.052002\n",
              "2020-01-03   88.601997\n",
              "2020-01-06   90.307999\n",
              "2020-01-07   93.811996\n",
              "2020-01-08   98.428001\n",
              "...                ...\n",
              "2020-12-24  661.770020\n",
              "2020-12-28  663.690002\n",
              "2020-12-29  665.989990\n",
              "2020-12-30  694.780029\n",
              "2020-12-31  705.669983\n",
              "\n",
              "[253 rows x 1 columns]"
            ]
          },
          "metadata": {
            "tags": []
          },
          "execution_count": 4
        }
      ]
    },
    {
      "cell_type": "code",
      "metadata": {
        "colab": {
          "base_uri": "https://localhost:8080/",
          "height": 555
        },
        "id": "-IwMNekL4Ezj",
        "outputId": "45dedad8-8e2a-4139-cd38-0fec034a8612"
      },
      "source": [
        "TSLA_.index\n",
        "TSLA_.columns\n",
        "\n",
        "TSLA_.rename(columns = {\"Adj Close\": \"Adj_Close\"}, inplace= True)\n",
        "TSLA_"
      ],
      "execution_count": 5,
      "outputs": [
        {
          "output_type": "stream",
          "text": [
            "/usr/local/lib/python3.7/dist-packages/pandas/core/frame.py:4308: SettingWithCopyWarning: \n",
            "A value is trying to be set on a copy of a slice from a DataFrame\n",
            "\n",
            "See the caveats in the documentation: https://pandas.pydata.org/pandas-docs/stable/user_guide/indexing.html#returning-a-view-versus-a-copy\n",
            "  errors=errors,\n"
          ],
          "name": "stderr"
        },
        {
          "output_type": "execute_result",
          "data": {
            "text/html": [
              "<div>\n",
              "<style scoped>\n",
              "    .dataframe tbody tr th:only-of-type {\n",
              "        vertical-align: middle;\n",
              "    }\n",
              "\n",
              "    .dataframe tbody tr th {\n",
              "        vertical-align: top;\n",
              "    }\n",
              "\n",
              "    .dataframe thead th {\n",
              "        text-align: right;\n",
              "    }\n",
              "</style>\n",
              "<table border=\"1\" class=\"dataframe\">\n",
              "  <thead>\n",
              "    <tr style=\"text-align: right;\">\n",
              "      <th></th>\n",
              "      <th>Adj_Close</th>\n",
              "    </tr>\n",
              "    <tr>\n",
              "      <th>Date</th>\n",
              "      <th></th>\n",
              "    </tr>\n",
              "  </thead>\n",
              "  <tbody>\n",
              "    <tr>\n",
              "      <th>2020-01-02</th>\n",
              "      <td>86.052002</td>\n",
              "    </tr>\n",
              "    <tr>\n",
              "      <th>2020-01-03</th>\n",
              "      <td>88.601997</td>\n",
              "    </tr>\n",
              "    <tr>\n",
              "      <th>2020-01-06</th>\n",
              "      <td>90.307999</td>\n",
              "    </tr>\n",
              "    <tr>\n",
              "      <th>2020-01-07</th>\n",
              "      <td>93.811996</td>\n",
              "    </tr>\n",
              "    <tr>\n",
              "      <th>2020-01-08</th>\n",
              "      <td>98.428001</td>\n",
              "    </tr>\n",
              "    <tr>\n",
              "      <th>...</th>\n",
              "      <td>...</td>\n",
              "    </tr>\n",
              "    <tr>\n",
              "      <th>2020-12-24</th>\n",
              "      <td>661.770020</td>\n",
              "    </tr>\n",
              "    <tr>\n",
              "      <th>2020-12-28</th>\n",
              "      <td>663.690002</td>\n",
              "    </tr>\n",
              "    <tr>\n",
              "      <th>2020-12-29</th>\n",
              "      <td>665.989990</td>\n",
              "    </tr>\n",
              "    <tr>\n",
              "      <th>2020-12-30</th>\n",
              "      <td>694.780029</td>\n",
              "    </tr>\n",
              "    <tr>\n",
              "      <th>2020-12-31</th>\n",
              "      <td>705.669983</td>\n",
              "    </tr>\n",
              "  </tbody>\n",
              "</table>\n",
              "<p>253 rows × 1 columns</p>\n",
              "</div>"
            ],
            "text/plain": [
              "             Adj_Close\n",
              "Date                  \n",
              "2020-01-02   86.052002\n",
              "2020-01-03   88.601997\n",
              "2020-01-06   90.307999\n",
              "2020-01-07   93.811996\n",
              "2020-01-08   98.428001\n",
              "...                ...\n",
              "2020-12-24  661.770020\n",
              "2020-12-28  663.690002\n",
              "2020-12-29  665.989990\n",
              "2020-12-30  694.780029\n",
              "2020-12-31  705.669983\n",
              "\n",
              "[253 rows x 1 columns]"
            ]
          },
          "metadata": {
            "tags": []
          },
          "execution_count": 5
        }
      ]
    },
    {
      "cell_type": "code",
      "metadata": {
        "colab": {
          "base_uri": "https://localhost:8080/",
          "height": 235
        },
        "id": "_-SkyFLM4HM5",
        "outputId": "eeef19bc-dd8c-41ef-9c61-df2fdd7dc1d9"
      },
      "source": [
        "## Import stockB data from Yahoo Finance\n",
        "GOOG=pdr.DataReader('GOOG', 'yahoo', start, end)\n",
        "GOOG.head()"
      ],
      "execution_count": 6,
      "outputs": [
        {
          "output_type": "execute_result",
          "data": {
            "text/html": [
              "<div>\n",
              "<style scoped>\n",
              "    .dataframe tbody tr th:only-of-type {\n",
              "        vertical-align: middle;\n",
              "    }\n",
              "\n",
              "    .dataframe tbody tr th {\n",
              "        vertical-align: top;\n",
              "    }\n",
              "\n",
              "    .dataframe thead th {\n",
              "        text-align: right;\n",
              "    }\n",
              "</style>\n",
              "<table border=\"1\" class=\"dataframe\">\n",
              "  <thead>\n",
              "    <tr style=\"text-align: right;\">\n",
              "      <th></th>\n",
              "      <th>High</th>\n",
              "      <th>Low</th>\n",
              "      <th>Open</th>\n",
              "      <th>Close</th>\n",
              "      <th>Volume</th>\n",
              "      <th>Adj Close</th>\n",
              "    </tr>\n",
              "    <tr>\n",
              "      <th>Date</th>\n",
              "      <th></th>\n",
              "      <th></th>\n",
              "      <th></th>\n",
              "      <th></th>\n",
              "      <th></th>\n",
              "      <th></th>\n",
              "    </tr>\n",
              "  </thead>\n",
              "  <tbody>\n",
              "    <tr>\n",
              "      <th>2020-01-02</th>\n",
              "      <td>1368.140015</td>\n",
              "      <td>1341.550049</td>\n",
              "      <td>1341.550049</td>\n",
              "      <td>1367.369995</td>\n",
              "      <td>1406600</td>\n",
              "      <td>1367.369995</td>\n",
              "    </tr>\n",
              "    <tr>\n",
              "      <th>2020-01-03</th>\n",
              "      <td>1372.500000</td>\n",
              "      <td>1345.543945</td>\n",
              "      <td>1347.859985</td>\n",
              "      <td>1360.660034</td>\n",
              "      <td>1186400</td>\n",
              "      <td>1360.660034</td>\n",
              "    </tr>\n",
              "    <tr>\n",
              "      <th>2020-01-06</th>\n",
              "      <td>1396.500000</td>\n",
              "      <td>1350.000000</td>\n",
              "      <td>1350.000000</td>\n",
              "      <td>1394.209961</td>\n",
              "      <td>1732300</td>\n",
              "      <td>1394.209961</td>\n",
              "    </tr>\n",
              "    <tr>\n",
              "      <th>2020-01-07</th>\n",
              "      <td>1402.989990</td>\n",
              "      <td>1390.380005</td>\n",
              "      <td>1397.939941</td>\n",
              "      <td>1393.339966</td>\n",
              "      <td>1502700</td>\n",
              "      <td>1393.339966</td>\n",
              "    </tr>\n",
              "    <tr>\n",
              "      <th>2020-01-08</th>\n",
              "      <td>1411.579956</td>\n",
              "      <td>1390.839966</td>\n",
              "      <td>1392.079956</td>\n",
              "      <td>1404.319946</td>\n",
              "      <td>1528000</td>\n",
              "      <td>1404.319946</td>\n",
              "    </tr>\n",
              "  </tbody>\n",
              "</table>\n",
              "</div>"
            ],
            "text/plain": [
              "                   High          Low  ...   Volume    Adj Close\n",
              "Date                                  ...                      \n",
              "2020-01-02  1368.140015  1341.550049  ...  1406600  1367.369995\n",
              "2020-01-03  1372.500000  1345.543945  ...  1186400  1360.660034\n",
              "2020-01-06  1396.500000  1350.000000  ...  1732300  1394.209961\n",
              "2020-01-07  1402.989990  1390.380005  ...  1502700  1393.339966\n",
              "2020-01-08  1411.579956  1390.839966  ...  1528000  1404.319946\n",
              "\n",
              "[5 rows x 6 columns]"
            ]
          },
          "metadata": {
            "tags": []
          },
          "execution_count": 6
        }
      ]
    },
    {
      "cell_type": "code",
      "metadata": {
        "colab": {
          "base_uri": "https://localhost:8080/",
          "height": 450
        },
        "id": "W-Fa21Gl4I3Z",
        "outputId": "bb93d6ce-81f5-424f-9536-b039fac2dd80"
      },
      "source": [
        "GOOG_=GOOG[['Adj Close']]\n",
        "GOOG_"
      ],
      "execution_count": 7,
      "outputs": [
        {
          "output_type": "execute_result",
          "data": {
            "text/html": [
              "<div>\n",
              "<style scoped>\n",
              "    .dataframe tbody tr th:only-of-type {\n",
              "        vertical-align: middle;\n",
              "    }\n",
              "\n",
              "    .dataframe tbody tr th {\n",
              "        vertical-align: top;\n",
              "    }\n",
              "\n",
              "    .dataframe thead th {\n",
              "        text-align: right;\n",
              "    }\n",
              "</style>\n",
              "<table border=\"1\" class=\"dataframe\">\n",
              "  <thead>\n",
              "    <tr style=\"text-align: right;\">\n",
              "      <th></th>\n",
              "      <th>Adj Close</th>\n",
              "    </tr>\n",
              "    <tr>\n",
              "      <th>Date</th>\n",
              "      <th></th>\n",
              "    </tr>\n",
              "  </thead>\n",
              "  <tbody>\n",
              "    <tr>\n",
              "      <th>2020-01-02</th>\n",
              "      <td>1367.369995</td>\n",
              "    </tr>\n",
              "    <tr>\n",
              "      <th>2020-01-03</th>\n",
              "      <td>1360.660034</td>\n",
              "    </tr>\n",
              "    <tr>\n",
              "      <th>2020-01-06</th>\n",
              "      <td>1394.209961</td>\n",
              "    </tr>\n",
              "    <tr>\n",
              "      <th>2020-01-07</th>\n",
              "      <td>1393.339966</td>\n",
              "    </tr>\n",
              "    <tr>\n",
              "      <th>2020-01-08</th>\n",
              "      <td>1404.319946</td>\n",
              "    </tr>\n",
              "    <tr>\n",
              "      <th>...</th>\n",
              "      <td>...</td>\n",
              "    </tr>\n",
              "    <tr>\n",
              "      <th>2020-12-24</th>\n",
              "      <td>1738.849976</td>\n",
              "    </tr>\n",
              "    <tr>\n",
              "      <th>2020-12-28</th>\n",
              "      <td>1776.089966</td>\n",
              "    </tr>\n",
              "    <tr>\n",
              "      <th>2020-12-29</th>\n",
              "      <td>1758.719971</td>\n",
              "    </tr>\n",
              "    <tr>\n",
              "      <th>2020-12-30</th>\n",
              "      <td>1739.520020</td>\n",
              "    </tr>\n",
              "    <tr>\n",
              "      <th>2020-12-31</th>\n",
              "      <td>1751.880005</td>\n",
              "    </tr>\n",
              "  </tbody>\n",
              "</table>\n",
              "<p>253 rows × 1 columns</p>\n",
              "</div>"
            ],
            "text/plain": [
              "              Adj Close\n",
              "Date                   \n",
              "2020-01-02  1367.369995\n",
              "2020-01-03  1360.660034\n",
              "2020-01-06  1394.209961\n",
              "2020-01-07  1393.339966\n",
              "2020-01-08  1404.319946\n",
              "...                 ...\n",
              "2020-12-24  1738.849976\n",
              "2020-12-28  1776.089966\n",
              "2020-12-29  1758.719971\n",
              "2020-12-30  1739.520020\n",
              "2020-12-31  1751.880005\n",
              "\n",
              "[253 rows x 1 columns]"
            ]
          },
          "metadata": {
            "tags": []
          },
          "execution_count": 7
        }
      ]
    },
    {
      "cell_type": "code",
      "metadata": {
        "colab": {
          "base_uri": "https://localhost:8080/",
          "height": 340
        },
        "id": "MR8jKglM4K0z",
        "outputId": "5dabe9fb-cd68-49c5-d8bd-75595ca0c5f6"
      },
      "source": [
        "GOOG_.index\n",
        "GOOG_.columns\n",
        "GOOG_.rename(columns = {\"Adj Close\": \"Adj_Close\"}, inplace= True)\n",
        "GOOG_.head()"
      ],
      "execution_count": 8,
      "outputs": [
        {
          "output_type": "stream",
          "text": [
            "/usr/local/lib/python3.7/dist-packages/pandas/core/frame.py:4308: SettingWithCopyWarning: \n",
            "A value is trying to be set on a copy of a slice from a DataFrame\n",
            "\n",
            "See the caveats in the documentation: https://pandas.pydata.org/pandas-docs/stable/user_guide/indexing.html#returning-a-view-versus-a-copy\n",
            "  errors=errors,\n"
          ],
          "name": "stderr"
        },
        {
          "output_type": "execute_result",
          "data": {
            "text/html": [
              "<div>\n",
              "<style scoped>\n",
              "    .dataframe tbody tr th:only-of-type {\n",
              "        vertical-align: middle;\n",
              "    }\n",
              "\n",
              "    .dataframe tbody tr th {\n",
              "        vertical-align: top;\n",
              "    }\n",
              "\n",
              "    .dataframe thead th {\n",
              "        text-align: right;\n",
              "    }\n",
              "</style>\n",
              "<table border=\"1\" class=\"dataframe\">\n",
              "  <thead>\n",
              "    <tr style=\"text-align: right;\">\n",
              "      <th></th>\n",
              "      <th>Adj_Close</th>\n",
              "    </tr>\n",
              "    <tr>\n",
              "      <th>Date</th>\n",
              "      <th></th>\n",
              "    </tr>\n",
              "  </thead>\n",
              "  <tbody>\n",
              "    <tr>\n",
              "      <th>2020-01-02</th>\n",
              "      <td>1367.369995</td>\n",
              "    </tr>\n",
              "    <tr>\n",
              "      <th>2020-01-03</th>\n",
              "      <td>1360.660034</td>\n",
              "    </tr>\n",
              "    <tr>\n",
              "      <th>2020-01-06</th>\n",
              "      <td>1394.209961</td>\n",
              "    </tr>\n",
              "    <tr>\n",
              "      <th>2020-01-07</th>\n",
              "      <td>1393.339966</td>\n",
              "    </tr>\n",
              "    <tr>\n",
              "      <th>2020-01-08</th>\n",
              "      <td>1404.319946</td>\n",
              "    </tr>\n",
              "  </tbody>\n",
              "</table>\n",
              "</div>"
            ],
            "text/plain": [
              "              Adj_Close\n",
              "Date                   \n",
              "2020-01-02  1367.369995\n",
              "2020-01-03  1360.660034\n",
              "2020-01-06  1394.209961\n",
              "2020-01-07  1393.339966\n",
              "2020-01-08  1404.319946"
            ]
          },
          "metadata": {
            "tags": []
          },
          "execution_count": 8
        }
      ]
    },
    {
      "cell_type": "markdown",
      "metadata": {
        "id": "8HEtH3Lj4NpE"
      },
      "source": [
        "1. TREND ANALYSIS\n",
        "\n",
        "How is my stocks trend? Upward or downward trend?"
      ]
    },
    {
      "cell_type": "code",
      "metadata": {
        "id": "niuRkkdD4OxX"
      },
      "source": [
        "#Calculate exponential weighted moving average and moving average\n",
        "\n",
        "def trend_analysis (df):\n",
        "  df['Weighted_Moving_Average']=df['Adj_Close'].ewm(span=50,adjust=False).mean()\n",
        "  df['Moving_Average']=df['Adj_Close'].rolling(window=1).mean()\n",
        "\n",
        "  return df"
      ],
      "execution_count": 9,
      "outputs": []
    },
    {
      "cell_type": "code",
      "metadata": {
        "colab": {
          "base_uri": "https://localhost:8080/",
          "height": 674
        },
        "id": "w4UQY8AY4QsG",
        "outputId": "188dd930-e9d3-46d3-f722-d53da9db609d"
      },
      "source": [
        "trend_analysis(TSLA_)"
      ],
      "execution_count": 10,
      "outputs": [
        {
          "output_type": "stream",
          "text": [
            "/usr/local/lib/python3.7/dist-packages/ipykernel_launcher.py:4: SettingWithCopyWarning: \n",
            "A value is trying to be set on a copy of a slice from a DataFrame.\n",
            "Try using .loc[row_indexer,col_indexer] = value instead\n",
            "\n",
            "See the caveats in the documentation: https://pandas.pydata.org/pandas-docs/stable/user_guide/indexing.html#returning-a-view-versus-a-copy\n",
            "  after removing the cwd from sys.path.\n",
            "/usr/local/lib/python3.7/dist-packages/ipykernel_launcher.py:5: SettingWithCopyWarning: \n",
            "A value is trying to be set on a copy of a slice from a DataFrame.\n",
            "Try using .loc[row_indexer,col_indexer] = value instead\n",
            "\n",
            "See the caveats in the documentation: https://pandas.pydata.org/pandas-docs/stable/user_guide/indexing.html#returning-a-view-versus-a-copy\n",
            "  \"\"\"\n"
          ],
          "name": "stderr"
        },
        {
          "output_type": "execute_result",
          "data": {
            "text/html": [
              "<div>\n",
              "<style scoped>\n",
              "    .dataframe tbody tr th:only-of-type {\n",
              "        vertical-align: middle;\n",
              "    }\n",
              "\n",
              "    .dataframe tbody tr th {\n",
              "        vertical-align: top;\n",
              "    }\n",
              "\n",
              "    .dataframe thead th {\n",
              "        text-align: right;\n",
              "    }\n",
              "</style>\n",
              "<table border=\"1\" class=\"dataframe\">\n",
              "  <thead>\n",
              "    <tr style=\"text-align: right;\">\n",
              "      <th></th>\n",
              "      <th>Adj_Close</th>\n",
              "      <th>Weighted_Moving_Average</th>\n",
              "      <th>Moving_Average</th>\n",
              "    </tr>\n",
              "    <tr>\n",
              "      <th>Date</th>\n",
              "      <th></th>\n",
              "      <th></th>\n",
              "      <th></th>\n",
              "    </tr>\n",
              "  </thead>\n",
              "  <tbody>\n",
              "    <tr>\n",
              "      <th>2020-01-02</th>\n",
              "      <td>86.052002</td>\n",
              "      <td>86.052002</td>\n",
              "      <td>86.052002</td>\n",
              "    </tr>\n",
              "    <tr>\n",
              "      <th>2020-01-03</th>\n",
              "      <td>88.601997</td>\n",
              "      <td>86.152002</td>\n",
              "      <td>88.601997</td>\n",
              "    </tr>\n",
              "    <tr>\n",
              "      <th>2020-01-06</th>\n",
              "      <td>90.307999</td>\n",
              "      <td>86.314982</td>\n",
              "      <td>90.307999</td>\n",
              "    </tr>\n",
              "    <tr>\n",
              "      <th>2020-01-07</th>\n",
              "      <td>93.811996</td>\n",
              "      <td>86.608983</td>\n",
              "      <td>93.811996</td>\n",
              "    </tr>\n",
              "    <tr>\n",
              "      <th>2020-01-08</th>\n",
              "      <td>98.428001</td>\n",
              "      <td>87.072474</td>\n",
              "      <td>98.428001</td>\n",
              "    </tr>\n",
              "    <tr>\n",
              "      <th>...</th>\n",
              "      <td>...</td>\n",
              "      <td>...</td>\n",
              "      <td>...</td>\n",
              "    </tr>\n",
              "    <tr>\n",
              "      <th>2020-12-24</th>\n",
              "      <td>661.770020</td>\n",
              "      <td>541.764024</td>\n",
              "      <td>661.770020</td>\n",
              "    </tr>\n",
              "    <tr>\n",
              "      <th>2020-12-28</th>\n",
              "      <td>663.690002</td>\n",
              "      <td>546.545435</td>\n",
              "      <td>663.690002</td>\n",
              "    </tr>\n",
              "    <tr>\n",
              "      <th>2020-12-29</th>\n",
              "      <td>665.989990</td>\n",
              "      <td>551.229535</td>\n",
              "      <td>665.989990</td>\n",
              "    </tr>\n",
              "    <tr>\n",
              "      <th>2020-12-30</th>\n",
              "      <td>694.780029</td>\n",
              "      <td>556.858966</td>\n",
              "      <td>694.780029</td>\n",
              "    </tr>\n",
              "    <tr>\n",
              "      <th>2020-12-31</th>\n",
              "      <td>705.669983</td>\n",
              "      <td>562.694692</td>\n",
              "      <td>705.669983</td>\n",
              "    </tr>\n",
              "  </tbody>\n",
              "</table>\n",
              "<p>253 rows × 3 columns</p>\n",
              "</div>"
            ],
            "text/plain": [
              "             Adj_Close  Weighted_Moving_Average  Moving_Average\n",
              "Date                                                           \n",
              "2020-01-02   86.052002                86.052002       86.052002\n",
              "2020-01-03   88.601997                86.152002       88.601997\n",
              "2020-01-06   90.307999                86.314982       90.307999\n",
              "2020-01-07   93.811996                86.608983       93.811996\n",
              "2020-01-08   98.428001                87.072474       98.428001\n",
              "...                ...                      ...             ...\n",
              "2020-12-24  661.770020               541.764024      661.770020\n",
              "2020-12-28  663.690002               546.545435      663.690002\n",
              "2020-12-29  665.989990               551.229535      665.989990\n",
              "2020-12-30  694.780029               556.858966      694.780029\n",
              "2020-12-31  705.669983               562.694692      705.669983\n",
              "\n",
              "[253 rows x 3 columns]"
            ]
          },
          "metadata": {
            "tags": []
          },
          "execution_count": 10
        }
      ]
    },
    {
      "cell_type": "code",
      "metadata": {
        "colab": {
          "base_uri": "https://localhost:8080/",
          "height": 408
        },
        "id": "vIlZrkH94T70",
        "outputId": "2c02bb73-1976-454c-f1a3-5c6e33d75ea1"
      },
      "source": [
        "## Plot WMA and MA for TSLA\n",
        "\n",
        "plt.style.use('ggplot')\n",
        "plt.figure(figsize = (12,6))\n",
        "\n",
        "\n",
        "plt.plot(TSLA_['Weighted_Moving_Average'], label='WeightedMovingAverage',linestyle='--', linewidth = 2)\n",
        "plt.plot(TSLA_['Moving_Average'], label='Moving Average',linestyle='-', linewidth = 2)\n",
        "\n",
        "plt.xlabel('Date')\n",
        "plt.ylabel('Adjusted closing price ($)')\n",
        "plt.title('TESLA Trend Analysis')\n",
        "plt.legend()\n",
        "plt.show()"
      ],
      "execution_count": 11,
      "outputs": [
        {
          "output_type": "display_data",
          "data": {
            "image/png": "[encoded data removed]",
            "text/plain": [
              "<Figure size 864x432 with 1 Axes>"
            ]
          },
          "metadata": {
            "tags": []
          }
        }
      ]
    },
    {
      "cell_type": "code",
      "metadata": {
        "colab": {
          "base_uri": "https://localhost:8080/",
          "height": 297
        },
        "id": "bemTQLH74V9D",
        "outputId": "446192b3-d3ae-49a1-dcb8-6c44734eae42"
      },
      "source": [
        "TSLA_.describe()"
      ],
      "execution_count": 12,
      "outputs": [
        {
          "output_type": "execute_result",
          "data": {
            "text/html": [
              "<div>\n",
              "<style scoped>\n",
              "    .dataframe tbody tr th:only-of-type {\n",
              "        vertical-align: middle;\n",
              "    }\n",
              "\n",
              "    .dataframe tbody tr th {\n",
              "        vertical-align: top;\n",
              "    }\n",
              "\n",
              "    .dataframe thead th {\n",
              "        text-align: right;\n",
              "    }\n",
              "</style>\n",
              "<table border=\"1\" class=\"dataframe\">\n",
              "  <thead>\n",
              "    <tr style=\"text-align: right;\">\n",
              "      <th></th>\n",
              "      <th>Adj_Close</th>\n",
              "      <th>Weighted_Moving_Average</th>\n",
              "      <th>Moving_Average</th>\n",
              "    </tr>\n",
              "  </thead>\n",
              "  <tbody>\n",
              "    <tr>\n",
              "      <th>count</th>\n",
              "      <td>253.000000</td>\n",
              "      <td>253.000000</td>\n",
              "      <td>253.000000</td>\n",
              "    </tr>\n",
              "    <tr>\n",
              "      <th>mean</th>\n",
              "      <td>289.997067</td>\n",
              "      <td>243.839968</td>\n",
              "      <td>289.997067</td>\n",
              "    </tr>\n",
              "    <tr>\n",
              "      <th>std</th>\n",
              "      <td>168.995613</td>\n",
              "      <td>137.084626</td>\n",
              "      <td>168.995613</td>\n",
              "    </tr>\n",
              "    <tr>\n",
              "      <th>min</th>\n",
              "      <td>72.244003</td>\n",
              "      <td>86.052002</td>\n",
              "      <td>72.244003</td>\n",
              "    </tr>\n",
              "    <tr>\n",
              "      <th>25%</th>\n",
              "      <td>149.792007</td>\n",
              "      <td>126.770351</td>\n",
              "      <td>149.792007</td>\n",
              "    </tr>\n",
              "    <tr>\n",
              "      <th>50%</th>\n",
              "      <td>241.731995</td>\n",
              "      <td>179.189804</td>\n",
              "      <td>241.731995</td>\n",
              "    </tr>\n",
              "    <tr>\n",
              "      <th>75%</th>\n",
              "      <td>421.200012</td>\n",
              "      <td>375.880208</td>\n",
              "      <td>421.200012</td>\n",
              "    </tr>\n",
              "    <tr>\n",
              "      <th>max</th>\n",
              "      <td>705.669983</td>\n",
              "      <td>562.694692</td>\n",
              "      <td>705.669983</td>\n",
              "    </tr>\n",
              "  </tbody>\n",
              "</table>\n",
              "</div>"
            ],
            "text/plain": [
              "        Adj_Close  Weighted_Moving_Average  Moving_Average\n",
              "count  253.000000               253.000000      253.000000\n",
              "mean   289.997067               243.839968      289.997067\n",
              "std    168.995613               137.084626      168.995613\n",
              "min     72.244003                86.052002       72.244003\n",
              "25%    149.792007               126.770351      149.792007\n",
              "50%    241.731995               179.189804      241.731995\n",
              "75%    421.200012               375.880208      421.200012\n",
              "max    705.669983               562.694692      705.669983"
            ]
          },
          "metadata": {
            "tags": []
          },
          "execution_count": 12
        }
      ]
    },
    {
      "cell_type": "code",
      "metadata": {
        "colab": {
          "base_uri": "https://localhost:8080/",
          "height": 674
        },
        "id": "LqbpLy424XcU",
        "outputId": "6a8b32fb-87c4-4ca5-c7ce-0688e62b6fec"
      },
      "source": [
        "trend_analysis(GOOG_)"
      ],
      "execution_count": 13,
      "outputs": [
        {
          "output_type": "stream",
          "text": [
            "/usr/local/lib/python3.7/dist-packages/ipykernel_launcher.py:4: SettingWithCopyWarning: \n",
            "A value is trying to be set on a copy of a slice from a DataFrame.\n",
            "Try using .loc[row_indexer,col_indexer] = value instead\n",
            "\n",
            "See the caveats in the documentation: https://pandas.pydata.org/pandas-docs/stable/user_guide/indexing.html#returning-a-view-versus-a-copy\n",
            "  after removing the cwd from sys.path.\n",
            "/usr/local/lib/python3.7/dist-packages/ipykernel_launcher.py:5: SettingWithCopyWarning: \n",
            "A value is trying to be set on a copy of a slice from a DataFrame.\n",
            "Try using .loc[row_indexer,col_indexer] = value instead\n",
            "\n",
            "See the caveats in the documentation: https://pandas.pydata.org/pandas-docs/stable/user_guide/indexing.html#returning-a-view-versus-a-copy\n",
            "  \"\"\"\n"
          ],
          "name": "stderr"
        },
        {
          "output_type": "execute_result",
          "data": {
            "text/html": [
              "<div>\n",
              "<style scoped>\n",
              "    .dataframe tbody tr th:only-of-type {\n",
              "        vertical-align: middle;\n",
              "    }\n",
              "\n",
              "    .dataframe tbody tr th {\n",
              "        vertical-align: top;\n",
              "    }\n",
              "\n",
              "    .dataframe thead th {\n",
              "        text-align: right;\n",
              "    }\n",
              "</style>\n",
              "<table border=\"1\" class=\"dataframe\">\n",
              "  <thead>\n",
              "    <tr style=\"text-align: right;\">\n",
              "      <th></th>\n",
              "      <th>Adj_Close</th>\n",
              "      <th>Weighted_Moving_Average</th>\n",
              "      <th>Moving_Average</th>\n",
              "    </tr>\n",
              "    <tr>\n",
              "      <th>Date</th>\n",
              "      <th></th>\n",
              "      <th></th>\n",
              "      <th></th>\n",
              "    </tr>\n",
              "  </thead>\n",
              "  <tbody>\n",
              "    <tr>\n",
              "      <th>2020-01-02</th>\n",
              "      <td>1367.369995</td>\n",
              "      <td>1367.369995</td>\n",
              "      <td>1367.369995</td>\n",
              "    </tr>\n",
              "    <tr>\n",
              "      <th>2020-01-03</th>\n",
              "      <td>1360.660034</td>\n",
              "      <td>1367.106859</td>\n",
              "      <td>1360.660034</td>\n",
              "    </tr>\n",
              "    <tr>\n",
              "      <th>2020-01-06</th>\n",
              "      <td>1394.209961</td>\n",
              "      <td>1368.169726</td>\n",
              "      <td>1394.209961</td>\n",
              "    </tr>\n",
              "    <tr>\n",
              "      <th>2020-01-07</th>\n",
              "      <td>1393.339966</td>\n",
              "      <td>1369.156794</td>\n",
              "      <td>1393.339966</td>\n",
              "    </tr>\n",
              "    <tr>\n",
              "      <th>2020-01-08</th>\n",
              "      <td>1404.319946</td>\n",
              "      <td>1370.535741</td>\n",
              "      <td>1404.319946</td>\n",
              "    </tr>\n",
              "    <tr>\n",
              "      <th>...</th>\n",
              "      <td>...</td>\n",
              "      <td>...</td>\n",
              "      <td>...</td>\n",
              "    </tr>\n",
              "    <tr>\n",
              "      <th>2020-12-24</th>\n",
              "      <td>1738.849976</td>\n",
              "      <td>1714.045119</td>\n",
              "      <td>1738.849976</td>\n",
              "    </tr>\n",
              "    <tr>\n",
              "      <th>2020-12-28</th>\n",
              "      <td>1776.089966</td>\n",
              "      <td>1716.478250</td>\n",
              "      <td>1776.089966</td>\n",
              "    </tr>\n",
              "    <tr>\n",
              "      <th>2020-12-29</th>\n",
              "      <td>1758.719971</td>\n",
              "      <td>1718.134788</td>\n",
              "      <td>1758.719971</td>\n",
              "    </tr>\n",
              "    <tr>\n",
              "      <th>2020-12-30</th>\n",
              "      <td>1739.520020</td>\n",
              "      <td>1718.973425</td>\n",
              "      <td>1739.520020</td>\n",
              "    </tr>\n",
              "    <tr>\n",
              "      <th>2020-12-31</th>\n",
              "      <td>1751.880005</td>\n",
              "      <td>1720.263879</td>\n",
              "      <td>1751.880005</td>\n",
              "    </tr>\n",
              "  </tbody>\n",
              "</table>\n",
              "<p>253 rows × 3 columns</p>\n",
              "</div>"
            ],
            "text/plain": [
              "              Adj_Close  Weighted_Moving_Average  Moving_Average\n",
              "Date                                                            \n",
              "2020-01-02  1367.369995              1367.369995     1367.369995\n",
              "2020-01-03  1360.660034              1367.106859     1360.660034\n",
              "2020-01-06  1394.209961              1368.169726     1394.209961\n",
              "2020-01-07  1393.339966              1369.156794     1393.339966\n",
              "2020-01-08  1404.319946              1370.535741     1404.319946\n",
              "...                 ...                      ...             ...\n",
              "2020-12-24  1738.849976              1714.045119     1738.849976\n",
              "2020-12-28  1776.089966              1716.478250     1776.089966\n",
              "2020-12-29  1758.719971              1718.134788     1758.719971\n",
              "2020-12-30  1739.520020              1718.973425     1739.520020\n",
              "2020-12-31  1751.880005              1720.263879     1751.880005\n",
              "\n",
              "[253 rows x 3 columns]"
            ]
          },
          "metadata": {
            "tags": []
          },
          "execution_count": 13
        }
      ]
    },
    {
      "cell_type": "code",
      "metadata": {
        "colab": {
          "base_uri": "https://localhost:8080/",
          "height": 408
        },
        "id": "IzS1W5BH4ZlP",
        "outputId": "df5af91d-5bea-4214-ff5b-ac77045aa382"
      },
      "source": [
        "## Plot WMA and MA for Google\n",
        "\n",
        "plt.style.use('ggplot')\n",
        "plt.figure(figsize = (12,6))\n",
        "\n",
        "\n",
        "plt.plot(GOOG_['Weighted_Moving_Average'], label='Weighted Moving Average',linestyle='--', linewidth = 2)\n",
        "plt.plot(GOOG_['Moving_Average'], label='Moving Average',linestyle='-', linewidth = 2)\n",
        "\n",
        "plt.xlabel('Date')\n",
        "plt.ylabel('Adjusted closing price ($)')\n",
        "plt.title('GOOGLE Trend Analysis')\n",
        "plt.legend()\n",
        "plt.show()"
      ],
      "execution_count": 14,
      "outputs": [
        {
          "output_type": "display_data",
          "data": {
            "image/png": "[encoded data removed]",
            "text/plain": [
              "<Figure size 864x432 with 1 Axes>"
            ]
          },
          "metadata": {
            "tags": []
          }
        }
      ]
    },
    {
      "cell_type": "code",
      "metadata": {
        "colab": {
          "base_uri": "https://localhost:8080/",
          "height": 297
        },
        "id": "Q_3h1py-4b4M",
        "outputId": "f472fe72-40b2-4066-aa7d-0c9f3e669caf"
      },
      "source": [
        "GOOG_.describe()"
      ],
      "execution_count": 15,
      "outputs": [
        {
          "output_type": "execute_result",
          "data": {
            "text/html": [
              "<div>\n",
              "<style scoped>\n",
              "    .dataframe tbody tr th:only-of-type {\n",
              "        vertical-align: middle;\n",
              "    }\n",
              "\n",
              "    .dataframe tbody tr th {\n",
              "        vertical-align: top;\n",
              "    }\n",
              "\n",
              "    .dataframe thead th {\n",
              "        text-align: right;\n",
              "    }\n",
              "</style>\n",
              "<table border=\"1\" class=\"dataframe\">\n",
              "  <thead>\n",
              "    <tr style=\"text-align: right;\">\n",
              "      <th></th>\n",
              "      <th>Adj_Close</th>\n",
              "      <th>Weighted_Moving_Average</th>\n",
              "      <th>Moving_Average</th>\n",
              "    </tr>\n",
              "  </thead>\n",
              "  <tbody>\n",
              "    <tr>\n",
              "      <th>count</th>\n",
              "      <td>253.000000</td>\n",
              "      <td>253.000000</td>\n",
              "      <td>253.000000</td>\n",
              "    </tr>\n",
              "    <tr>\n",
              "      <th>mean</th>\n",
              "      <td>1481.403811</td>\n",
              "      <td>1447.230293</td>\n",
              "      <td>1481.403811</td>\n",
              "    </tr>\n",
              "    <tr>\n",
              "      <th>std</th>\n",
              "      <td>175.967854</td>\n",
              "      <td>124.837515</td>\n",
              "      <td>175.967854</td>\n",
              "    </tr>\n",
              "    <tr>\n",
              "      <th>min</th>\n",
              "      <td>1056.619995</td>\n",
              "      <td>1249.832565</td>\n",
              "      <td>1056.619995</td>\n",
              "    </tr>\n",
              "    <tr>\n",
              "      <th>25%</th>\n",
              "      <td>1394.209961</td>\n",
              "      <td>1367.106859</td>\n",
              "      <td>1394.209961</td>\n",
              "    </tr>\n",
              "    <tr>\n",
              "      <th>50%</th>\n",
              "      <td>1476.229980</td>\n",
              "      <td>1434.117484</td>\n",
              "      <td>1476.229980</td>\n",
              "    </tr>\n",
              "    <tr>\n",
              "      <th>75%</th>\n",
              "      <td>1568.489990</td>\n",
              "      <td>1523.296255</td>\n",
              "      <td>1568.489990</td>\n",
              "    </tr>\n",
              "    <tr>\n",
              "      <th>max</th>\n",
              "      <td>1827.989990</td>\n",
              "      <td>1720.263879</td>\n",
              "      <td>1827.989990</td>\n",
              "    </tr>\n",
              "  </tbody>\n",
              "</table>\n",
              "</div>"
            ],
            "text/plain": [
              "         Adj_Close  Weighted_Moving_Average  Moving_Average\n",
              "count   253.000000               253.000000      253.000000\n",
              "mean   1481.403811              1447.230293     1481.403811\n",
              "std     175.967854               124.837515      175.967854\n",
              "min    1056.619995              1249.832565     1056.619995\n",
              "25%    1394.209961              1367.106859     1394.209961\n",
              "50%    1476.229980              1434.117484     1476.229980\n",
              "75%    1568.489990              1523.296255     1568.489990\n",
              "max    1827.989990              1720.263879     1827.989990"
            ]
          },
          "metadata": {
            "tags": []
          },
          "execution_count": 15
        }
      ]
    },
    {
      "cell_type": "markdown",
      "metadata": {
        "id": "E9JpCdvC4fED"
      },
      "source": [
        "2. Risk Analysis\n",
        "\n",
        "How risky is my stock?"
      ]
    },
    {
      "cell_type": "code",
      "metadata": {
        "id": "_9QW3kof4eHK"
      },
      "source": [
        "#Create a function that compares the standard deviation and returns which stock has a higher risk\n",
        "\n",
        "def risk_analysis(df1, df2):\n",
        "    std_SymbolA= df1.Adj_Close.std()\n",
        "    std_SymbolB= df2.Adj_Close.std()\n",
        "    \n",
        "    if std_SymbolA > std_SymbolB:\n",
        "        print (\"Stock A is riskier than Stock B!\")\n",
        "    else:\n",
        "        print (\"Stock B is riskier than Stock A!\")"
      ],
      "execution_count": 16,
      "outputs": []
    },
    {
      "cell_type": "code",
      "metadata": {
        "colab": {
          "base_uri": "https://localhost:8080/"
        },
        "id": "5e0l4tb-4i7z",
        "outputId": "4f2fdbc5-5857-4c42-c025-a924ecba75bd"
      },
      "source": [
        "# StockA=TSLA, StockB=GOOG\n",
        "\n",
        "risk_analysis(TSLA_, GOOG_)"
      ],
      "execution_count": 17,
      "outputs": [
        {
          "output_type": "stream",
          "text": [
            "Stock B is riskier than Stock A!\n"
          ],
          "name": "stdout"
        }
      ]
    },
    {
      "cell_type": "markdown",
      "metadata": {
        "id": "iYF4wEZ44k7Z"
      },
      "source": [
        "Return Analysis\n",
        "\n",
        "Daily and monthly returns of stocks"
      ]
    },
    {
      "cell_type": "code",
      "metadata": {
        "id": "07e25NeV4lb6"
      },
      "source": [
        "#Create a function that calculates daily return of stock\n",
        "def daily_return_analysis(df):\n",
        "    df[\"Daily_Returns\"]=df[\"Adj_Close\"].pct_change()\n",
        "    \n",
        "    return df"
      ],
      "execution_count": 18,
      "outputs": []
    },
    {
      "cell_type": "code",
      "metadata": {
        "colab": {
          "base_uri": "https://localhost:8080/",
          "height": 572
        },
        "id": "RkAKlxc-4nEL",
        "outputId": "3616b434-116a-4a18-e42f-ba4eb34ca595"
      },
      "source": [
        "daily_return_analysis(TSLA_)"
      ],
      "execution_count": 19,
      "outputs": [
        {
          "output_type": "stream",
          "text": [
            "/usr/local/lib/python3.7/dist-packages/ipykernel_launcher.py:3: SettingWithCopyWarning: \n",
            "A value is trying to be set on a copy of a slice from a DataFrame.\n",
            "Try using .loc[row_indexer,col_indexer] = value instead\n",
            "\n",
            "See the caveats in the documentation: https://pandas.pydata.org/pandas-docs/stable/user_guide/indexing.html#returning-a-view-versus-a-copy\n",
            "  This is separate from the ipykernel package so we can avoid doing imports until\n"
          ],
          "name": "stderr"
        },
        {
          "output_type": "execute_result",
          "data": {
            "text/html": [
              "<div>\n",
              "<style scoped>\n",
              "    .dataframe tbody tr th:only-of-type {\n",
              "        vertical-align: middle;\n",
              "    }\n",
              "\n",
              "    .dataframe tbody tr th {\n",
              "        vertical-align: top;\n",
              "    }\n",
              "\n",
              "    .dataframe thead th {\n",
              "        text-align: right;\n",
              "    }\n",
              "</style>\n",
              "<table border=\"1\" class=\"dataframe\">\n",
              "  <thead>\n",
              "    <tr style=\"text-align: right;\">\n",
              "      <th></th>\n",
              "      <th>Adj_Close</th>\n",
              "      <th>Weighted_Moving_Average</th>\n",
              "      <th>Moving_Average</th>\n",
              "      <th>Daily_Returns</th>\n",
              "    </tr>\n",
              "    <tr>\n",
              "      <th>Date</th>\n",
              "      <th></th>\n",
              "      <th></th>\n",
              "      <th></th>\n",
              "      <th></th>\n",
              "    </tr>\n",
              "  </thead>\n",
              "  <tbody>\n",
              "    <tr>\n",
              "      <th>2020-01-02</th>\n",
              "      <td>86.052002</td>\n",
              "      <td>86.052002</td>\n",
              "      <td>86.052002</td>\n",
              "      <td>NaN</td>\n",
              "    </tr>\n",
              "    <tr>\n",
              "      <th>2020-01-03</th>\n",
              "      <td>88.601997</td>\n",
              "      <td>86.152002</td>\n",
              "      <td>88.601997</td>\n",
              "      <td>0.029633</td>\n",
              "    </tr>\n",
              "    <tr>\n",
              "      <th>2020-01-06</th>\n",
              "      <td>90.307999</td>\n",
              "      <td>86.314982</td>\n",
              "      <td>90.307999</td>\n",
              "      <td>0.019255</td>\n",
              "    </tr>\n",
              "    <tr>\n",
              "      <th>2020-01-07</th>\n",
              "      <td>93.811996</td>\n",
              "      <td>86.608983</td>\n",
              "      <td>93.811996</td>\n",
              "      <td>0.038801</td>\n",
              "    </tr>\n",
              "    <tr>\n",
              "      <th>2020-01-08</th>\n",
              "      <td>98.428001</td>\n",
              "      <td>87.072474</td>\n",
              "      <td>98.428001</td>\n",
              "      <td>0.049205</td>\n",
              "    </tr>\n",
              "    <tr>\n",
              "      <th>...</th>\n",
              "      <td>...</td>\n",
              "      <td>...</td>\n",
              "      <td>...</td>\n",
              "      <td>...</td>\n",
              "    </tr>\n",
              "    <tr>\n",
              "      <th>2020-12-24</th>\n",
              "      <td>661.770020</td>\n",
              "      <td>541.764024</td>\n",
              "      <td>661.770020</td>\n",
              "      <td>0.024444</td>\n",
              "    </tr>\n",
              "    <tr>\n",
              "      <th>2020-12-28</th>\n",
              "      <td>663.690002</td>\n",
              "      <td>546.545435</td>\n",
              "      <td>663.690002</td>\n",
              "      <td>0.002901</td>\n",
              "    </tr>\n",
              "    <tr>\n",
              "      <th>2020-12-29</th>\n",
              "      <td>665.989990</td>\n",
              "      <td>551.229535</td>\n",
              "      <td>665.989990</td>\n",
              "      <td>0.003465</td>\n",
              "    </tr>\n",
              "    <tr>\n",
              "      <th>2020-12-30</th>\n",
              "      <td>694.780029</td>\n",
              "      <td>556.858966</td>\n",
              "      <td>694.780029</td>\n",
              "      <td>0.043229</td>\n",
              "    </tr>\n",
              "    <tr>\n",
              "      <th>2020-12-31</th>\n",
              "      <td>705.669983</td>\n",
              "      <td>562.694692</td>\n",
              "      <td>705.669983</td>\n",
              "      <td>0.015674</td>\n",
              "    </tr>\n",
              "  </tbody>\n",
              "</table>\n",
              "<p>253 rows × 4 columns</p>\n",
              "</div>"
            ],
            "text/plain": [
              "             Adj_Close  Weighted_Moving_Average  Moving_Average  Daily_Returns\n",
              "Date                                                                          \n",
              "2020-01-02   86.052002                86.052002       86.052002            NaN\n",
              "2020-01-03   88.601997                86.152002       88.601997       0.029633\n",
              "2020-01-06   90.307999                86.314982       90.307999       0.019255\n",
              "2020-01-07   93.811996                86.608983       93.811996       0.038801\n",
              "2020-01-08   98.428001                87.072474       98.428001       0.049205\n",
              "...                ...                      ...             ...            ...\n",
              "2020-12-24  661.770020               541.764024      661.770020       0.024444\n",
              "2020-12-28  663.690002               546.545435      663.690002       0.002901\n",
              "2020-12-29  665.989990               551.229535      665.989990       0.003465\n",
              "2020-12-30  694.780029               556.858966      694.780029       0.043229\n",
              "2020-12-31  705.669983               562.694692      705.669983       0.015674\n",
              "\n",
              "[253 rows x 4 columns]"
            ]
          },
          "metadata": {
            "tags": []
          },
          "execution_count": 19
        }
      ]
    },
    {
      "cell_type": "code",
      "metadata": {
        "colab": {
          "base_uri": "https://localhost:8080/",
          "height": 572
        },
        "id": "7CrWlLb94p-V",
        "outputId": "e05f73bc-1700-47d9-a3c3-28a9a63a852e"
      },
      "source": [
        "daily_return_analysis(GOOG_)"
      ],
      "execution_count": 20,
      "outputs": [
        {
          "output_type": "stream",
          "text": [
            "/usr/local/lib/python3.7/dist-packages/ipykernel_launcher.py:3: SettingWithCopyWarning: \n",
            "A value is trying to be set on a copy of a slice from a DataFrame.\n",
            "Try using .loc[row_indexer,col_indexer] = value instead\n",
            "\n",
            "See the caveats in the documentation: https://pandas.pydata.org/pandas-docs/stable/user_guide/indexing.html#returning-a-view-versus-a-copy\n",
            "  This is separate from the ipykernel package so we can avoid doing imports until\n"
          ],
          "name": "stderr"
        },
        {
          "output_type": "execute_result",
          "data": {
            "text/html": [
              "<div>\n",
              "<style scoped>\n",
              "    .dataframe tbody tr th:only-of-type {\n",
              "        vertical-align: middle;\n",
              "    }\n",
              "\n",
              "    .dataframe tbody tr th {\n",
              "        vertical-align: top;\n",
              "    }\n",
              "\n",
              "    .dataframe thead th {\n",
              "        text-align: right;\n",
              "    }\n",
              "</style>\n",
              "<table border=\"1\" class=\"dataframe\">\n",
              "  <thead>\n",
              "    <tr style=\"text-align: right;\">\n",
              "      <th></th>\n",
              "      <th>Adj_Close</th>\n",
              "      <th>Weighted_Moving_Average</th>\n",
              "      <th>Moving_Average</th>\n",
              "      <th>Daily_Returns</th>\n",
              "    </tr>\n",
              "    <tr>\n",
              "      <th>Date</th>\n",
              "      <th></th>\n",
              "      <th></th>\n",
              "      <th></th>\n",
              "      <th></th>\n",
              "    </tr>\n",
              "  </thead>\n",
              "  <tbody>\n",
              "    <tr>\n",
              "      <th>2020-01-02</th>\n",
              "      <td>1367.369995</td>\n",
              "      <td>1367.369995</td>\n",
              "      <td>1367.369995</td>\n",
              "      <td>NaN</td>\n",
              "    </tr>\n",
              "    <tr>\n",
              "      <th>2020-01-03</th>\n",
              "      <td>1360.660034</td>\n",
              "      <td>1367.106859</td>\n",
              "      <td>1360.660034</td>\n",
              "      <td>-0.004907</td>\n",
              "    </tr>\n",
              "    <tr>\n",
              "      <th>2020-01-06</th>\n",
              "      <td>1394.209961</td>\n",
              "      <td>1368.169726</td>\n",
              "      <td>1394.209961</td>\n",
              "      <td>0.024657</td>\n",
              "    </tr>\n",
              "    <tr>\n",
              "      <th>2020-01-07</th>\n",
              "      <td>1393.339966</td>\n",
              "      <td>1369.156794</td>\n",
              "      <td>1393.339966</td>\n",
              "      <td>-0.000624</td>\n",
              "    </tr>\n",
              "    <tr>\n",
              "      <th>2020-01-08</th>\n",
              "      <td>1404.319946</td>\n",
              "      <td>1370.535741</td>\n",
              "      <td>1404.319946</td>\n",
              "      <td>0.007880</td>\n",
              "    </tr>\n",
              "    <tr>\n",
              "      <th>...</th>\n",
              "      <td>...</td>\n",
              "      <td>...</td>\n",
              "      <td>...</td>\n",
              "      <td>...</td>\n",
              "    </tr>\n",
              "    <tr>\n",
              "      <th>2020-12-24</th>\n",
              "      <td>1738.849976</td>\n",
              "      <td>1714.045119</td>\n",
              "      <td>1738.849976</td>\n",
              "      <td>0.003735</td>\n",
              "    </tr>\n",
              "    <tr>\n",
              "      <th>2020-12-28</th>\n",
              "      <td>1776.089966</td>\n",
              "      <td>1716.478250</td>\n",
              "      <td>1776.089966</td>\n",
              "      <td>0.021416</td>\n",
              "    </tr>\n",
              "    <tr>\n",
              "      <th>2020-12-29</th>\n",
              "      <td>1758.719971</td>\n",
              "      <td>1718.134788</td>\n",
              "      <td>1758.719971</td>\n",
              "      <td>-0.009780</td>\n",
              "    </tr>\n",
              "    <tr>\n",
              "      <th>2020-12-30</th>\n",
              "      <td>1739.520020</td>\n",
              "      <td>1718.973425</td>\n",
              "      <td>1739.520020</td>\n",
              "      <td>-0.010917</td>\n",
              "    </tr>\n",
              "    <tr>\n",
              "      <th>2020-12-31</th>\n",
              "      <td>1751.880005</td>\n",
              "      <td>1720.263879</td>\n",
              "      <td>1751.880005</td>\n",
              "      <td>0.007105</td>\n",
              "    </tr>\n",
              "  </tbody>\n",
              "</table>\n",
              "<p>253 rows × 4 columns</p>\n",
              "</div>"
            ],
            "text/plain": [
              "              Adj_Close  Weighted_Moving_Average  Moving_Average  Daily_Returns\n",
              "Date                                                                           \n",
              "2020-01-02  1367.369995              1367.369995     1367.369995            NaN\n",
              "2020-01-03  1360.660034              1367.106859     1360.660034      -0.004907\n",
              "2020-01-06  1394.209961              1368.169726     1394.209961       0.024657\n",
              "2020-01-07  1393.339966              1369.156794     1393.339966      -0.000624\n",
              "2020-01-08  1404.319946              1370.535741     1404.319946       0.007880\n",
              "...                 ...                      ...             ...            ...\n",
              "2020-12-24  1738.849976              1714.045119     1738.849976       0.003735\n",
              "2020-12-28  1776.089966              1716.478250     1776.089966       0.021416\n",
              "2020-12-29  1758.719971              1718.134788     1758.719971      -0.009780\n",
              "2020-12-30  1739.520020              1718.973425     1739.520020      -0.010917\n",
              "2020-12-31  1751.880005              1720.263879     1751.880005       0.007105\n",
              "\n",
              "[253 rows x 4 columns]"
            ]
          },
          "metadata": {
            "tags": []
          },
          "execution_count": 20
        }
      ]
    },
    {
      "cell_type": "code",
      "metadata": {
        "id": "m7JyWWxu4t0r"
      },
      "source": [
        "## Create a function which plots Daily Returns of stocks on the same graph\n",
        "def plot_daily_returns(df1,df2):\n",
        "    plt.style.use('ggplot')\n",
        "    plt.figure(figsize = (12,6))\n",
        "\n",
        "    plt.plot(df1['Daily_Returns'], label='Daily Returns TSLA',linestyle='--', linewidth = 2, color= 'r')\n",
        "    plt.plot(df2['Daily_Returns'], label='Daily Returns GOOG',linestyle='-', linewidth = 2, color = 'b')\n",
        "\n",
        "    plt.xlabel('Date')\n",
        "    plt.ylabel('Daily Returns ($)')\n",
        "    plt.title('Daily Return Analysis')\n",
        "    plt.legend()\n",
        "    plt.show()"
      ],
      "execution_count": 21,
      "outputs": []
    },
    {
      "cell_type": "code",
      "metadata": {
        "colab": {
          "base_uri": "https://localhost:8080/",
          "height": 408
        },
        "id": "5VfQYeu04wJt",
        "outputId": "622214cf-6d24-4f64-ac9d-fbba93a8dce5"
      },
      "source": [
        "plot_daily_returns(TSLA_, GOOG_)"
      ],
      "execution_count": 22,
      "outputs": [
        {
          "output_type": "display_data",
          "data": {
            "image/png": "[encoded data removed]",
            "text/plain": [
              "<Figure size 864x432 with 1 Axes>"
            ]
          },
          "metadata": {
            "tags": []
          }
        }
      ]
    },
    {
      "cell_type": "code",
      "metadata": {
        "colab": {
          "base_uri": "https://localhost:8080/"
        },
        "id": "HZqqPGco4yKK",
        "outputId": "ccb55cd7-25c4-44a8-ac9b-cc3ceb0d6749"
      },
      "source": [
        "#monthly return of stock\n",
        "TSLA_Monthly_Returns=TSLA_['Adj_Close'].resample('M').ffill().pct_change()[1:]\n",
        "TSLA_Monthly_Returns"
      ],
      "execution_count": 23,
      "outputs": [
        {
          "output_type": "execute_result",
          "data": {
            "text/plain": [
              "Date\n",
              "2020-02-29    0.026777\n",
              "2020-03-31   -0.215557\n",
              "2020-04-30    0.492137\n",
              "2020-05-31    0.067939\n",
              "2020-06-30    0.293186\n",
              "2020-07-31    0.325011\n",
              "2020-08-31    0.741452\n",
              "2020-09-30   -0.139087\n",
              "2020-10-31   -0.095499\n",
              "2020-11-30    0.462736\n",
              "2020-12-31    0.243252\n",
              "Freq: M, Name: Adj_Close, dtype: float64"
            ]
          },
          "metadata": {
            "tags": []
          },
          "execution_count": 23
        }
      ]
    },
    {
      "cell_type": "code",
      "metadata": {
        "colab": {
          "base_uri": "https://localhost:8080/"
        },
        "id": "rT98jGOF40De",
        "outputId": "f67c1f90-d10c-4fd3-fc9e-255b34b0d395"
      },
      "source": [
        "#monthly return of stock\n",
        "GOOG_Monthly_Returns=GOOG_['Adj_Close'].resample('M').ffill().pct_change()[1:]\n",
        "GOOG_Monthly_Returns"
      ],
      "execution_count": 24,
      "outputs": [
        {
          "output_type": "execute_result",
          "data": {
            "text/plain": [
              "Date\n",
              "2020-02-29   -0.066168\n",
              "2020-03-31   -0.131797\n",
              "2020-04-30    0.159828\n",
              "2020-05-31    0.059511\n",
              "2020-06-30   -0.010714\n",
              "2020-07-31    0.049059\n",
              "2020-08-31    0.101972\n",
              "2020-09-30   -0.100711\n",
              "2020-10-31    0.103028\n",
              "2020-11-30    0.086199\n",
              "2020-12-31   -0.005032\n",
              "Freq: M, Name: Adj_Close, dtype: float64"
            ]
          },
          "metadata": {
            "tags": []
          },
          "execution_count": 24
        }
      ]
    },
    {
      "cell_type": "code",
      "metadata": {
        "id": "H0xbAtMY41xH"
      },
      "source": [
        "## Create a function which plots Monthly Returns of stocks on the same graph\n",
        "def plot_monthly_returns(df1,df2):\n",
        "    plt.style.use('ggplot')\n",
        "    plt.figure(figsize = (12,6))\n",
        "\n",
        "    plt.plot(df1[\"Adj_Close\"].resample('M').ffill().pct_change()[1:],label='Monthly Returns TSLA',linestyle='--', linewidth = 2, color= 'r')\n",
        "    plt.plot(df2[\"Adj_Close\"].resample('M').ffill().pct_change()[1:],label='Monthly Returns GOOG',linestyle='-', linewidth = 2, color= 'b')\n",
        "\n",
        "    plt.xlabel('Date')\n",
        "    plt.ylabel('Monthly Returns ($)')\n",
        "    plt.title('Monthly Return Analysis')\n",
        "    plt.legend()\n",
        "    plt.show()"
      ],
      "execution_count": 25,
      "outputs": []
    },
    {
      "cell_type": "code",
      "metadata": {
        "colab": {
          "base_uri": "https://localhost:8080/",
          "height": 408
        },
        "id": "0UPraPQp44K8",
        "outputId": "dda34407-c8e0-4ea0-a231-2fddd990fecd"
      },
      "source": [
        "plot_monthly_returns(TSLA_, GOOG_)"
      ],
      "execution_count": 26,
      "outputs": [
        {
          "output_type": "display_data",
          "data": {
            "image/png": "[encoded data removed]",
            "text/plain": [
              "<Figure size 864x432 with 1 Axes>"
            ]
          },
          "metadata": {
            "tags": []
          }
        }
      ]
    }
  ]
}